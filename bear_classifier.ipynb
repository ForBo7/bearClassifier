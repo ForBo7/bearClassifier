{
 "cells": [
  {
   "cell_type": "code",
   "execution_count": 7,
   "metadata": {
    "pycharm": {
     "name": "#%%\n"
    }
   },
   "outputs": [],
   "source": [
    "from fastai import *\n",
    "from fastai.vision.all import *\n",
    "from fastai.vision.widgets import *\n",
    "import pathlib"
   ]
  },
  {
   "cell_type": "code",
   "execution_count": 8,
   "metadata": {
    "pycharm": {
     "name": "#%%\n"
    }
   },
   "outputs": [],
   "source": [
    "# Loading the model for inference.\n",
    "path = pathlib.Path()\n",
    "path.ls(file_exts='.pkl')\n",
    "\n",
    "learn_inf = load_learner(path/'model/export.pkl')"
   ]
  },
  {
   "cell_type": "code",
   "execution_count": 9,
   "metadata": {
    "pycharm": {
     "name": "#%%\n"
    }
   },
   "outputs": [
    {
     "data": {
      "application/vnd.jupyter.widget-view+json": {
       "model_id": "9d48f6c9ddde4132857c09eee69cd0ee",
       "version_major": 2,
       "version_minor": 0
      },
      "text/plain": [
       "VBox(children=(Label(value='Select your bear!'), FileUpload(value={}, description='Upload'), Button(descriptio…"
      ]
     },
     "metadata": {},
     "output_type": "display_data"
    }
   ],
   "source": [
    "# Button upload widget.\n",
    "button_upload = widgets.FileUpload()\n",
    "\n",
    "# Button classify widget.\n",
    "button_classify = widgets.Button(description='Classify')\n",
    "\n",
    "# Output widget to display uploaded image.\n",
    "out_pl = widgets.Output()\n",
    "\n",
    "# Label to display predictions.\n",
    "label_prediction = widgets.Label()\n",
    "\n",
    "# Classification click event handler.\n",
    "def on_click_classify(change):\n",
    "    img = PILImage.create(button_upload.data[-1])\n",
    "    out_pl.clear_output()\n",
    "    with out_pl: display(img.to_thumb(128, 128))\n",
    "    prediction, prediction_index, probabilities = learn_inf.predict(img)\n",
    "    label_prediction.value = f\"Prediction: {prediction}; Probability: {probabilities[prediction_index]:.04f}\"\n",
    "\n",
    "button_classify.on_click(on_click_classify)\n",
    "\n",
    "# Put everything in a vertical box.\n",
    "VBox([\n",
    "    widgets.Label('Select your bear!'),\n",
    "    button_upload, button_classify, out_pl, label_prediction,\n",
    "])"
   ]
  },
  {
   "cell_type": "code",
   "execution_count": null,
   "outputs": [],
   "source": [
    "# # Convert to webapp by installing Voila and connecting it to the Jupyter notebook.\n",
    "# !pip install voila\n",
    "# !jupyter serverextension enable voila --user"
   ],
   "metadata": {
    "collapsed": false,
    "pycharm": {
     "name": "#%%\n"
    }
   }
  }
 ],
 "metadata": {
  "kernelspec": {
   "display_name": "Python 3 (ipykernel)",
   "language": "python",
   "name": "python3"
  },
  "language_info": {
   "codemirror_mode": {
    "name": "ipython",
    "version": 3
   },
   "file_extension": ".py",
   "mimetype": "text/x-python",
   "name": "python",
   "nbconvert_exporter": "python",
   "pygments_lexer": "ipython3",
   "version": "3.10.2"
  }
 },
 "nbformat": 4,
 "nbformat_minor": 1
}